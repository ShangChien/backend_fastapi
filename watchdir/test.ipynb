{
 "cells": [
  {
   "cell_type": "code",
   "execution_count": 1,
   "metadata": {},
   "outputs": [],
   "source": [
    "from data_api import single_db_process,get_molData\n",
    "from pathlib import Path as P\n"
   ]
  },
  {
   "cell_type": "code",
   "execution_count": 3,
   "metadata": {},
   "outputs": [
    {
     "name": "stdout",
     "output_type": "stream",
     "text": [
      "W:/Data-month-statistics/202310/1023/231010-HTL-0005/231010-HTL-0005-S1-T1.gjf/231010-HTL-0005-S1-T1.log\n"
     ]
    },
    {
     "data": {
      "text/html": [
       "<pre style=\"white-space:pre;overflow-x:auto;line-height:normal;font-family:Menlo,'DejaVu Sans Mono',consolas,'Courier New',monospace\">15:32:57.925 | <span style=\"color: #008080; text-decoration-color: #008080\">INFO</span>    | prefect.engine - Created flow run<span style=\"color: #800080; text-decoration-color: #800080\"> 'nebulous-auk'</span> for flow<span style=\"color: #800080; text-decoration-color: #800080; font-weight: bold\"> 'single-db-process'</span>\n",
       "</pre>\n"
      ],
      "text/plain": [
       "15:32:57.925 | \u001b[36mINFO\u001b[0m    | prefect.engine - Created flow run\u001b[35m 'nebulous-auk'\u001b[0m for flow\u001b[1;35m 'single-db-process'\u001b[0m\n"
      ]
     },
     "metadata": {},
     "output_type": "display_data"
    },
    {
     "data": {
      "text/html": [
       "<pre style=\"white-space:pre;overflow-x:auto;line-height:normal;font-family:Menlo,'DejaVu Sans Mono',consolas,'Courier New',monospace\">15:32:57.997 | <span style=\"color: #008080; text-decoration-color: #008080\">INFO</span>    | Flow run<span style=\"color: #800080; text-decoration-color: #800080\"> 'nebulous-auk'</span> - Created task run 'db_process-0' for task 'db_process'\n",
       "</pre>\n"
      ],
      "text/plain": [
       "15:32:57.997 | \u001b[36mINFO\u001b[0m    | Flow run\u001b[35m 'nebulous-auk'\u001b[0m - Created task run 'db_process-0' for task 'db_process'\n"
      ]
     },
     "metadata": {},
     "output_type": "display_data"
    },
    {
     "data": {
      "text/html": [
       "<pre style=\"white-space:pre;overflow-x:auto;line-height:normal;font-family:Menlo,'DejaVu Sans Mono',consolas,'Courier New',monospace\">15:32:57.999 | <span style=\"color: #008080; text-decoration-color: #008080\">INFO</span>    | Flow run<span style=\"color: #800080; text-decoration-color: #800080\"> 'nebulous-auk'</span> - Executing 'db_process-0' immediately...\n",
       "</pre>\n"
      ],
      "text/plain": [
       "15:32:57.999 | \u001b[36mINFO\u001b[0m    | Flow run\u001b[35m 'nebulous-auk'\u001b[0m - Executing 'db_process-0' immediately...\n"
      ]
     },
     "metadata": {},
     "output_type": "display_data"
    },
    {
     "name": "stdout",
     "output_type": "stream",
     "text": [
      "{'timeStamp': None, 'name_calc': '231010-HTL-0005', 'smiles': 'c1ccc(-c2ccccc2N(c2ccc3c(c2)c(-c2ccccc2)c(-c2ccccc2)n3-c2ccccc2)c2cccc3c2-c2ccccc2C32c3ccccc3-c3ccccc32)cc1', 'functional': None, 'basisSet': None, 'charge': None, 'spinMultiplicity': None, 'numBasisFunc': None, 'electrons': None, 'isPcm': None, 'isSpin': None, 'stationaryType': None, 'extraInfo': None, 'energy': None, 'homo': None, 'lumo': None, 'eg': None, 'polar': None, 'dirPath': {'ground': None, 'udft': None, 'tdft': 'Data-month-statistics/202310/1023/231010-HTL-0005/231010-HTL-0005-S1-T1.gjf/231010-HTL-0005-S1-T1.log', 'polar': None, 'uv': None}, 'corrections': None, 'structures': None, 'tdft': {'s0_s1': {'energy': [3.2579], 'oscillator': [0.0358]}, 's0_t1': {'energy': [2.6703], 'oscillator': [0.0]}}, 'udft': None, 'spectrum': {'uv': None, 'uv_low': {'energy': [3.2579, 3.3951, 3.5734, 3.6399, 3.7722, 3.7993], 'oscillator': [0.0358, 0.1679, 0.0383, 0.0042, 0.0258, 0.4678]}}}\n"
     ]
    },
    {
     "data": {
      "text/html": [
       "<pre style=\"white-space:pre;overflow-x:auto;line-height:normal;font-family:Menlo,'DejaVu Sans Mono',consolas,'Courier New',monospace\">15:32:58.345 | <span style=\"color: #008080; text-decoration-color: #008080\">INFO</span>    | Task run 'db_process-0' - Finished in state <span style=\"color: #008000; text-decoration-color: #008000\">Completed</span>()\n",
       "</pre>\n"
      ],
      "text/plain": [
       "15:32:58.345 | \u001b[36mINFO\u001b[0m    | Task run 'db_process-0' - Finished in state \u001b[32mCompleted\u001b[0m()\n"
      ]
     },
     "metadata": {},
     "output_type": "display_data"
    },
    {
     "data": {
      "text/html": [
       "<pre style=\"white-space:pre;overflow-x:auto;line-height:normal;font-family:Menlo,'DejaVu Sans Mono',consolas,'Courier New',monospace\">15:32:58.374 | <span style=\"color: #008080; text-decoration-color: #008080\">INFO</span>    | Flow run<span style=\"color: #800080; text-decoration-color: #800080\"> 'nebulous-auk'</span> - Finished in state <span style=\"color: #008000; text-decoration-color: #008000\">Completed</span>('All states completed.')\n",
       "</pre>\n"
      ],
      "text/plain": [
       "15:32:58.374 | \u001b[36mINFO\u001b[0m    | Flow run\u001b[35m 'nebulous-auk'\u001b[0m - Finished in state \u001b[32mCompleted\u001b[0m('All states completed.')\n"
      ]
     },
     "metadata": {},
     "output_type": "display_data"
    },
    {
     "name": "stdout",
     "output_type": "stream",
     "text": [
      "W:/Data-month-statistics/202310/1023/231010-HTL-0005/231010-HTL-0005-UDFT.gjf/231010-HTL-0005-UDFT.log\n"
     ]
    },
    {
     "data": {
      "text/html": [
       "<pre style=\"white-space:pre;overflow-x:auto;line-height:normal;font-family:Menlo,'DejaVu Sans Mono',consolas,'Courier New',monospace\">15:32:58.475 | <span style=\"color: #008080; text-decoration-color: #008080\">INFO</span>    | prefect.engine - Created flow run<span style=\"color: #800080; text-decoration-color: #800080\"> 'hairy-bullfrog'</span> for flow<span style=\"color: #800080; text-decoration-color: #800080; font-weight: bold\"> 'single-db-process'</span>\n",
       "</pre>\n"
      ],
      "text/plain": [
       "15:32:58.475 | \u001b[36mINFO\u001b[0m    | prefect.engine - Created flow run\u001b[35m 'hairy-bullfrog'\u001b[0m for flow\u001b[1;35m 'single-db-process'\u001b[0m\n"
      ]
     },
     "metadata": {},
     "output_type": "display_data"
    },
    {
     "data": {
      "text/html": [
       "<pre style=\"white-space:pre;overflow-x:auto;line-height:normal;font-family:Menlo,'DejaVu Sans Mono',consolas,'Courier New',monospace\">15:32:58.542 | <span style=\"color: #008080; text-decoration-color: #008080\">INFO</span>    | Flow run<span style=\"color: #800080; text-decoration-color: #800080\"> 'hairy-bullfrog'</span> - Created task run 'db_process-0' for task 'db_process'\n",
       "</pre>\n"
      ],
      "text/plain": [
       "15:32:58.542 | \u001b[36mINFO\u001b[0m    | Flow run\u001b[35m 'hairy-bullfrog'\u001b[0m - Created task run 'db_process-0' for task 'db_process'\n"
      ]
     },
     "metadata": {},
     "output_type": "display_data"
    },
    {
     "data": {
      "text/html": [
       "<pre style=\"white-space:pre;overflow-x:auto;line-height:normal;font-family:Menlo,'DejaVu Sans Mono',consolas,'Courier New',monospace\">15:32:58.543 | <span style=\"color: #008080; text-decoration-color: #008080\">INFO</span>    | Flow run<span style=\"color: #800080; text-decoration-color: #800080\"> 'hairy-bullfrog'</span> - Executing 'db_process-0' immediately...\n",
       "</pre>\n"
      ],
      "text/plain": [
       "15:32:58.543 | \u001b[36mINFO\u001b[0m    | Flow run\u001b[35m 'hairy-bullfrog'\u001b[0m - Executing 'db_process-0' immediately...\n"
      ]
     },
     "metadata": {},
     "output_type": "display_data"
    },
    {
     "name": "stdout",
     "output_type": "stream",
     "text": [
      "{'timeStamp': None, 'name_calc': '231010-HTL-0005', 'smiles': 'c1ccc(-c2ccccc2N(c2ccc3c(c2)c(-c2ccccc2)c(-c2ccccc2)n3-c2ccccc2)c2cccc3c2-c2ccccc2C32c3ccccc3-c3ccccc32)cc1', 'functional': None, 'basisSet': None, 'charge': None, 'spinMultiplicity': None, 'numBasisFunc': None, 'electrons': None, 'isPcm': None, 'isSpin': None, 'stationaryType': None, 'extraInfo': None, 'energy': None, 'homo': None, 'lumo': None, 'eg': None, 'polar': None, 'dirPath': {'ground': None, 'udft': 'Data-month-statistics/202310/1023/231010-HTL-0005/231010-HTL-0005-UDFT.gjf/231010-HTL-0005-UDFT.log', 'tdft': None, 'polar': None, 'uv': None}, 'corrections': None, 'structures': {'ground': None, 'udft': '\\n     RDKit          3D\\n\\n107119  0  0  0  0  0  0  0  0999 V2000\\n   -2.4620    0.2649    0.5579 C   0  0  0  0  0  0  0  0  0  0  0  0\\n   -2.0075   -0.3159   -0.7207 C   0  0  0  0  0  0  0  0  0  0  0  0\\n   -3.0214   -1.1678   -1.2046 C   0  0  0  0  0  0  0  0  0  0  0  0\\n   -4.1863   -1.2338   -0.2265 C   0  0  0  0  0  0  0  0  0  0  0  0\\n   -3.7486   -0.2378    0.8404 C   0  0  0  0  0  0  0  0  0  0  0  0\\n   -4.4810    0.1710    1.9438 C   0  0  0  0  0  0  0  0  0  0  0  0\\n   -3.9091    1.1077    2.8078 C   0  0  0  0  0  0  0  0  0  0  0  0\\n   -2.6257    1.5945    2.5686 C   0  0  0  0  0  0  0  0  0  0  0  0\\n   -1.8837    1.1872    1.4496 C   0  0  0  0  0  0  0  0  0  0  0  0\\n   -0.5838    1.7295    1.2463 N   0  0  0  0  0  0  0  0  0  0  0  0\\n    0.5375    0.8677    1.1872 C   0  0  0  0  0  0  0  0  0  0  0  0\\n    0.4801   -0.4354    1.6870 C   0  0  0  0  0  0  0  0  0  0  0  0\\n    1.5790   -1.3135    1.5662 C   0  0  0  0  0  0  0  0  0  0  0  0\\n    2.7208   -0.8557    0.9466 C   0  0  0  0  0  0  0  0  0  0  0  0\\n    2.8024    0.4565    0.4019 C   0  0  0  0  0  0  0  0  0  0  0  0\\n    1.7091    1.3235    0.5495 C   0  0  0  0  0  0  0  0  0  0  0  0\\n    4.1116    0.6231   -0.1479 C   0  0  0  0  0  0  0  0  0  0  0  0\\n    4.8170   -0.6928    0.0019 C   0  0  0  0  0  0  0  0  0  0  0  0\\n    3.9516   -1.5206    0.7336 N   0  0  0  0  0  0  0  0  0  0  0  0\\n    4.0170   -2.9421    0.7925 C   0  0  0  0  0  0  0  0  0  0  0  0\\n    4.1570   -3.6975   -0.3765 C   0  0  0  0  0  0  0  0  0  0  0  0\\n    4.2032   -5.0866   -0.2973 C   0  0  0  0  0  0  0  0  0  0  0  0\\n    4.0961   -5.7283    0.9392 C   0  0  0  0  0  0  0  0  0  0  0  0\\n    3.9480   -4.9716    2.1021 C   0  0  0  0  0  0  0  0  0  0  0  0\\n    3.9151   -3.5787    2.0323 C   0  0  0  0  0  0  0  0  0  0  0  0\\n    6.0726   -1.0867   -0.5126 C   0  0  0  0  0  0  0  0  0  0  0  0\\n    6.8582   -2.1290    0.0814 C   0  0  0  0  0  0  0  0  0  0  0  0\\n    8.0859   -2.4837   -0.4418 C   0  0  0  0  0  0  0  0  0  0  0  0\\n    8.6011   -1.8456   -1.5840 C   0  0  0  0  0  0  0  0  0  0  0  0\\n    7.8478   -0.8320   -2.1907 C   0  0  0  0  0  0  0  0  0  0  0  0\\n    6.6192   -0.4521   -1.6774 C   0  0  0  0  0  0  0  0  0  0  0  0\\n    4.7089    1.8612   -0.5630 C   0  0  0  0  0  0  0  0  0  0  0  0\\n    6.0747    2.1493   -0.2954 C   0  0  0  0  0  0  0  0  0  0  0  0\\n    6.6265    3.3733   -0.6500 C   0  0  0  0  0  0  0  0  0  0  0  0\\n    5.8546    4.3421   -1.2977 C   0  0  0  0  0  0  0  0  0  0  0  0\\n    4.5108    4.0709   -1.5878 C   0  0  0  0  0  0  0  0  0  0  0  0\\n    3.9453    2.8582   -1.2254 C   0  0  0  0  0  0  0  0  0  0  0  0\\n   -0.3901    3.1042    1.5657 C   0  0  0  0  0  0  0  0  0  0  0  0\\n    0.5372    3.4766    2.5474 C   0  0  0  0  0  0  0  0  0  0  0  0\\n    0.6947    4.8128    2.9050 C   0  0  0  0  0  0  0  0  0  0  0  0\\n   -0.0961    5.7925    2.3037 C   0  0  0  0  0  0  0  0  0  0  0  0\\n   -1.0210    5.4244    1.3282 C   0  0  0  0  0  0  0  0  0  0  0  0\\n   -1.1711    4.0910    0.9258 C   0  0  0  0  0  0  0  0  0  0  0  0\\n   -2.1280    3.7558   -0.1596 C   0  0  0  0  0  0  0  0  0  0  0  0\\n   -3.4763    4.1238   -0.0616 C   0  0  0  0  0  0  0  0  0  0  0  0\\n   -4.3658    3.8408   -1.0974 C   0  0  0  0  0  0  0  0  0  0  0  0\\n   -3.9183    3.1826   -2.2445 C   0  0  0  0  0  0  0  0  0  0  0  0\\n   -2.5791    2.8015   -2.3462 C   0  0  0  0  0  0  0  0  0  0  0  0\\n   -1.6917    3.0928   -1.3140 C   0  0  0  0  0  0  0  0  0  0  0  0\\n   -4.4064   -2.6424    0.3279 C   0  0  0  0  0  0  0  0  0  0  0  0\\n   -5.7159   -3.0812    0.0572 C   0  0  0  0  0  0  0  0  0  0  0  0\\n   -6.4252   -2.0173   -0.6675 C   0  0  0  0  0  0  0  0  0  0  0  0\\n   -5.5484   -0.9296   -0.8393 C   0  0  0  0  0  0  0  0  0  0  0  0\\n   -5.9599    0.2274   -1.4838 C   0  0  0  0  0  0  0  0  0  0  0  0\\n   -7.2695    0.2928   -1.9710 C   0  0  0  0  0  0  0  0  0  0  0  0\\n   -8.1451   -0.7870   -1.8090 C   0  0  0  0  0  0  0  0  0  0  0  0\\n   -7.7309   -1.9498   -1.1550 C   0  0  0  0  0  0  0  0  0  0  0  0\\n   -6.1310   -4.3469    0.4722 C   0  0  0  0  0  0  0  0  0  0  0  0\\n   -5.2254   -5.1617    1.1558 C   0  0  0  0  0  0  0  0  0  0  0  0\\n   -3.9240   -4.7201    1.4198 C   0  0  0  0  0  0  0  0  0  0  0  0\\n   -3.5056   -3.4516    1.0039 C   0  0  0  0  0  0  0  0  0  0  0  0\\n   -2.8982   -1.8322   -2.4153 C   0  0  0  0  0  0  0  0  0  0  0  0\\n   -1.7366   -1.6462   -3.1703 C   0  0  0  0  0  0  0  0  0  0  0  0\\n   -0.7212   -0.8090   -2.6990 C   0  0  0  0  0  0  0  0  0  0  0  0\\n   -0.8445   -0.1428   -1.4781 C   0  0  0  0  0  0  0  0  0  0  0  0\\n   -5.4769   -0.2240    2.1200 H   0  0  0  0  0  0  0  0  0  0  0  0\\n   -4.4562    1.4495    3.6818 H   0  0  0  0  0  0  0  0  0  0  0  0\\n   -2.1790    2.3082    3.2526 H   0  0  0  0  0  0  0  0  0  0  0  0\\n   -0.4236   -0.7799    2.1751 H   0  0  0  0  0  0  0  0  0  0  0  0\\n    1.5176   -2.3190    1.9655 H   0  0  0  0  0  0  0  0  0  0  0  0\\n    1.7493    2.3406    0.1842 H   0  0  0  0  0  0  0  0  0  0  0  0\\n    4.2400   -3.1895   -1.3307 H   0  0  0  0  0  0  0  0  0  0  0  0\\n    4.3169   -5.6709   -1.2057 H   0  0  0  0  0  0  0  0  0  0  0  0\\n    4.1307   -6.8123    0.9950 H   0  0  0  0  0  0  0  0  0  0  0  0\\n    3.8692   -5.4629    3.0676 H   0  0  0  0  0  0  0  0  0  0  0  0\\n    3.8249   -2.9766    2.9309 H   0  0  0  0  0  0  0  0  0  0  0  0\\n    6.5028   -2.6170    0.9805 H   0  0  0  0  0  0  0  0  0  0  0  0\\n    8.6644   -3.2626    0.0484 H   0  0  0  0  0  0  0  0  0  0  0  0\\n    9.5659   -2.1352   -1.9888 H   0  0  0  0  0  0  0  0  0  0  0  0\\n    8.2212   -0.3405   -3.0854 H   0  0  0  0  0  0  0  0  0  0  0  0\\n    6.0372    0.3026   -2.1900 H   0  0  0  0  0  0  0  0  0  0  0  0\\n    6.6755    1.4168    0.2285 H   0  0  0  0  0  0  0  0  0  0  0  0\\n    7.6681    3.5754   -0.4164 H   0  0  0  0  0  0  0  0  0  0  0  0\\n    6.2936    5.2944   -1.5801 H   0  0  0  0  0  0  0  0  0  0  0  0\\n    3.9082    4.8080   -2.1113 H   0  0  0  0  0  0  0  0  0  0  0  0\\n    2.9203    2.6414   -1.5037 H   0  0  0  0  0  0  0  0  0  0  0  0\\n    1.1239    2.7039    3.0327 H   0  0  0  0  0  0  0  0  0  0  0  0\\n    1.4204    5.0831    3.6668 H   0  0  0  0  0  0  0  0  0  0  0  0\\n    0.0134    6.8362    2.5830 H   0  0  0  0  0  0  0  0  0  0  0  0\\n   -1.6223    6.1821    0.8342 H   0  0  0  0  0  0  0  0  0  0  0  0\\n   -3.8268    4.6159    0.8410 H   0  0  0  0  0  0  0  0  0  0  0  0\\n   -5.4099    4.1268   -1.0052 H   0  0  0  0  0  0  0  0  0  0  0  0\\n   -4.6097    2.9631   -3.0535 H   0  0  0  0  0  0  0  0  0  0  0  0\\n   -2.2260    2.2688   -3.2239 H   0  0  0  0  0  0  0  0  0  0  0  0\\n   -0.6502    2.8023   -1.3957 H   0  0  0  0  0  0  0  0  0  0  0  0\\n   -5.2771    1.0628   -1.5983 H   0  0  0  0  0  0  0  0  0  0  0  0\\n   -7.6108    1.1908   -2.4787 H   0  0  0  0  0  0  0  0  0  0  0  0\\n   -9.1589   -0.7194   -2.1937 H   0  0  0  0  0  0  0  0  0  0  0  0\\n   -8.4159   -2.7838   -1.0281 H   0  0  0  0  0  0  0  0  0  0  0  0\\n   -7.1399   -4.6957    0.2683 H   0  0  0  0  0  0  0  0  0  0  0  0\\n   -5.5345   -6.1498    1.4851 H   0  0  0  0  0  0  0  0  0  0  0  0\\n   -3.2328   -5.3683    1.9509 H   0  0  0  0  0  0  0  0  0  0  0  0\\n   -2.4949   -3.1047    1.2012 H   0  0  0  0  0  0  0  0  0  0  0  0\\n   -3.6954   -2.4813   -2.7666 H   0  0  0  0  0  0  0  0  0  0  0  0\\n   -1.6222   -2.1557   -4.1230 H   0  0  0  0  0  0  0  0  0  0  0  0\\n    0.1825   -0.6741   -3.2870 H   0  0  0  0  0  0  0  0  0  0  0  0\\n   -0.0423    0.4934   -1.1341 H   0  0  0  0  0  0  0  0  0  0  0  0\\n  2  1  1  0\\n  3  2  2  0\\n  4  3  1  0\\n  5  4  1  0\\n  5  1  1  0\\n  6  5  2  0\\n  7  6  1  0\\n  8  7  2  0\\n  9  8  1  0\\n  9  1  2  0\\n 10  9  1  0\\n 11 10  1  0\\n 12 11  2  0\\n 13 12  1  0\\n 14 13  2  0\\n 15 14  1  0\\n 16 15  2  0\\n 16 11  1  0\\n 17 15  1  0\\n 18 17  2  0\\n 19 18  1  0\\n 19 14  1  0\\n 20 19  1  0\\n 21 20  2  0\\n 22 21  1  0\\n 23 22  2  0\\n 24 23  1  0\\n 25 24  2  0\\n 25 20  1  0\\n 26 18  1  0\\n 27 26  2  0\\n 28 27  1  0\\n 29 28  2  0\\n 30 29  1  0\\n 31 30  2  0\\n 31 26  1  0\\n 32 17  1  0\\n 33 32  2  0\\n 34 33  1  0\\n 35 34  2  0\\n 36 35  1  0\\n 37 36  2  0\\n 37 32  1  0\\n 38 10  1  0\\n 39 38  2  0\\n 40 39  1  0\\n 41 40  2  0\\n 42 41  1  0\\n 43 42  2  0\\n 43 38  1  0\\n 44 43  1  0\\n 45 44  2  0\\n 46 45  1  0\\n 47 46  2  0\\n 48 47  1  0\\n 49 48  2  0\\n 49 44  1  0\\n 50  4  1  0\\n 51 50  2  0\\n 52 51  1  0\\n 53 52  1  0\\n 53  4  1  0\\n 54 53  2  0\\n 55 54  1  0\\n 56 55  2  0\\n 57 56  1  0\\n 57 52  2  0\\n 58 51  1  0\\n 59 58  2  0\\n 60 59  1  0\\n 61 60  2  0\\n 61 50  1  0\\n 62  3  1  0\\n 63 62  2  0\\n 64 63  1  0\\n 65 64  2  0\\n 65  2  1  0\\n 66  6  1  0\\n 67  7  1  0\\n 68  8  1  0\\n 69 12  1  0\\n 70 13  1  0\\n 71 16  1  0\\n 72 21  1  0\\n 73 22  1  0\\n 74 23  1  0\\n 75 24  1  0\\n 76 25  1  0\\n 77 27  1  0\\n 78 28  1  0\\n 79 29  1  0\\n 80 30  1  0\\n 81 31  1  0\\n 82 33  1  0\\n 83 34  1  0\\n 84 35  1  0\\n 85 36  1  0\\n 86 37  1  0\\n 87 39  1  0\\n 88 40  1  0\\n 89 41  1  0\\n 90 42  1  0\\n 91 45  1  0\\n 92 46  1  0\\n 93 47  1  0\\n 94 48  1  0\\n 95 49  1  0\\n 96 54  1  0\\n 97 55  1  0\\n 98 56  1  0\\n 99 57  1  0\\n100 58  1  0\\n101 59  1  0\\n102 60  1  0\\n103 61  1  0\\n104 62  1  0\\n105 63  1  0\\n106 64  1  0\\n107 65  1  0\\nM  END\\n', 'tdft': None}, 'tdft': None, 'udft': {'energy': -2535.78431169, 'corrections': {'zeroPoint': 0.857521, 'energy': 0.906654, 'enthalpy': 0.907598, 'gibbsFreeEnergy': 0.769432}}, 'spectrum': None}\n"
     ]
    },
    {
     "data": {
      "text/html": [
       "<pre style=\"white-space:pre;overflow-x:auto;line-height:normal;font-family:Menlo,'DejaVu Sans Mono',consolas,'Courier New',monospace\">15:32:59.164 | <span style=\"color: #008080; text-decoration-color: #008080\">INFO</span>    | Task run 'db_process-0' - Finished in state <span style=\"color: #008000; text-decoration-color: #008000\">Completed</span>()\n",
       "</pre>\n"
      ],
      "text/plain": [
       "15:32:59.164 | \u001b[36mINFO\u001b[0m    | Task run 'db_process-0' - Finished in state \u001b[32mCompleted\u001b[0m()\n"
      ]
     },
     "metadata": {},
     "output_type": "display_data"
    },
    {
     "data": {
      "text/html": [
       "<pre style=\"white-space:pre;overflow-x:auto;line-height:normal;font-family:Menlo,'DejaVu Sans Mono',consolas,'Courier New',monospace\">15:32:59.188 | <span style=\"color: #008080; text-decoration-color: #008080\">INFO</span>    | Flow run<span style=\"color: #800080; text-decoration-color: #800080\"> 'hairy-bullfrog'</span> - Finished in state <span style=\"color: #008000; text-decoration-color: #008000\">Completed</span>('All states completed.')\n",
       "</pre>\n"
      ],
      "text/plain": [
       "15:32:59.188 | \u001b[36mINFO\u001b[0m    | Flow run\u001b[35m 'hairy-bullfrog'\u001b[0m - Finished in state \u001b[32mCompleted\u001b[0m('All states completed.')\n"
      ]
     },
     "metadata": {},
     "output_type": "display_data"
    },
    {
     "name": "stdout",
     "output_type": "stream",
     "text": [
      "W:/Data-month-statistics/202310/1023/231010-HTL-0005/231010-HTL-0005.gjf/231010-HTL-0005.log\n"
     ]
    },
    {
     "data": {
      "text/html": [
       "<pre style=\"white-space:pre;overflow-x:auto;line-height:normal;font-family:Menlo,'DejaVu Sans Mono',consolas,'Courier New',monospace\">15:32:59.295 | <span style=\"color: #008080; text-decoration-color: #008080\">INFO</span>    | prefect.engine - Created flow run<span style=\"color: #800080; text-decoration-color: #800080\"> 'meek-jackal'</span> for flow<span style=\"color: #800080; text-decoration-color: #800080; font-weight: bold\"> 'single-db-process'</span>\n",
       "</pre>\n"
      ],
      "text/plain": [
       "15:32:59.295 | \u001b[36mINFO\u001b[0m    | prefect.engine - Created flow run\u001b[35m 'meek-jackal'\u001b[0m for flow\u001b[1;35m 'single-db-process'\u001b[0m\n"
      ]
     },
     "metadata": {},
     "output_type": "display_data"
    },
    {
     "data": {
      "text/html": [
       "<pre style=\"white-space:pre;overflow-x:auto;line-height:normal;font-family:Menlo,'DejaVu Sans Mono',consolas,'Courier New',monospace\">15:32:59.365 | <span style=\"color: #008080; text-decoration-color: #008080\">INFO</span>    | Flow run<span style=\"color: #800080; text-decoration-color: #800080\"> 'meek-jackal'</span> - Created task run 'db_process-0' for task 'db_process'\n",
       "</pre>\n"
      ],
      "text/plain": [
       "15:32:59.365 | \u001b[36mINFO\u001b[0m    | Flow run\u001b[35m 'meek-jackal'\u001b[0m - Created task run 'db_process-0' for task 'db_process'\n"
      ]
     },
     "metadata": {},
     "output_type": "display_data"
    },
    {
     "data": {
      "text/html": [
       "<pre style=\"white-space:pre;overflow-x:auto;line-height:normal;font-family:Menlo,'DejaVu Sans Mono',consolas,'Courier New',monospace\">15:32:59.367 | <span style=\"color: #008080; text-decoration-color: #008080\">INFO</span>    | Flow run<span style=\"color: #800080; text-decoration-color: #800080\"> 'meek-jackal'</span> - Executing 'db_process-0' immediately...\n",
       "</pre>\n"
      ],
      "text/plain": [
       "15:32:59.367 | \u001b[36mINFO\u001b[0m    | Flow run\u001b[35m 'meek-jackal'\u001b[0m - Executing 'db_process-0' immediately...\n"
      ]
     },
     "metadata": {},
     "output_type": "display_data"
    },
    {
     "name": "stdout",
     "output_type": "stream",
     "text": [
      "{'timeStamp': datetime.datetime(2023, 10, 28, 4, 21, 3), 'name_calc': '231010-HTL-0005', 'smiles': 'c1ccc(-c2ccccc2N(c2ccc3c(c2)c(-c2ccccc2)c(-c2ccccc2)n3-c2ccccc2)c2cccc3c2-c2ccccc2C32c3ccccc3-c3ccccc32)cc1', 'functional': 'B3LYP', 'basisSet': '6-31G*', 'charge': 0, 'spinMultiplicity': 1, 'numBasisFunc': 1059, 'electrons': [217, 217], 'isPcm': False, 'isSpin': False, 'stationaryType': 'Minimum', 'extraInfo': None, 'energy': -2535.87427561, 'homo': -0.17307, 'lumo': -0.03499, 'eg': 0.13808, 'polar': None, 'dirPath': {'ground': 'Data-month-statistics/202310/1023/231010-HTL-0005/231010-HTL-0005.gjf/231010-HTL-0005.log', 'udft': None, 'tdft': None, 'polar': None, 'uv': None}, 'corrections': {'zeroPoint': 0.860922, 'energy': 0.909782, 'enthalpy': 0.910726, 'gibbsFreeEnergy': 0.773779}, 'structures': {'ground': '\\n     RDKit          3D\\n\\n107119  0  0  0  0  0  0  0  0999 V2000\\n    2.4735    0.2059   -0.5810 C   0  0  0  0  0  0  0  0  0  0  0  0\\n    2.0122   -0.3087    0.7240 C   0  0  0  0  0  0  0  0  0  0  0  0\\n    3.0157   -1.1490    1.2481 C   0  0  0  0  0  0  0  0  0  0  0  0\\n    4.1776   -1.2787    0.2730 C   0  0  0  0  0  0  0  0  0  0  0  0\\n    3.7544   -0.3254   -0.8379 C   0  0  0  0  0  0  0  0  0  0  0  0\\n    4.4954    0.0241   -1.9554 C   0  0  0  0  0  0  0  0  0  0  0  0\\n    3.9382    0.9294   -2.8617 C   0  0  0  0  0  0  0  0  0  0  0  0\\n    2.6608    1.4421   -2.6486 C   0  0  0  0  0  0  0  0  0  0  0  0\\n    1.9085    1.0944   -1.5156 C   0  0  0  0  0  0  0  0  0  0  0  0\\n    0.6159    1.6620   -1.3464 N   0  0  0  0  0  0  0  0  0  0  0  0\\n   -0.5198    0.8233   -1.2267 C   0  0  0  0  0  0  0  0  0  0  0  0\\n   -0.4714   -0.5152   -1.6796 C   0  0  0  0  0  0  0  0  0  0  0  0\\n   -1.5504   -1.3740   -1.5148 C   0  0  0  0  0  0  0  0  0  0  0  0\\n   -2.7015   -0.8738   -0.9052 C   0  0  0  0  0  0  0  0  0  0  0  0\\n   -2.7680    0.4600   -0.4290 C   0  0  0  0  0  0  0  0  0  0  0  0\\n   -1.6714    1.3126   -0.6059 C   0  0  0  0  0  0  0  0  0  0  0  0\\n   -4.0649    0.6332    0.1797 C   0  0  0  0  0  0  0  0  0  0  0  0\\n   -4.7347   -0.5747    0.0611 C   0  0  0  0  0  0  0  0  0  0  0  0\\n   -3.9149   -1.4924   -0.6100 N   0  0  0  0  0  0  0  0  0  0  0  0\\n   -4.1601   -2.8815   -0.7784 C   0  0  0  0  0  0  0  0  0  0  0  0\\n   -4.5073   -3.6780    0.3171 C   0  0  0  0  0  0  0  0  0  0  0  0\\n   -4.7495   -5.0372    0.1327 C   0  0  0  0  0  0  0  0  0  0  0  0\\n   -4.6276   -5.6108   -1.1346 C   0  0  0  0  0  0  0  0  0  0  0  0\\n   -4.2703   -4.8146   -2.2235 C   0  0  0  0  0  0  0  0  0  0  0  0\\n   -4.0454   -3.4493   -2.0509 C   0  0  0  0  0  0  0  0  0  0  0  0\\n   -6.0880   -0.9273    0.5127 C   0  0  0  0  0  0  0  0  0  0  0  0\\n   -6.9832   -1.6114   -0.3257 C   0  0  0  0  0  0  0  0  0  0  0  0\\n   -8.2654   -1.9278    0.1167 C   0  0  0  0  0  0  0  0  0  0  0  0\\n   -8.6763   -1.5641    1.4002 C   0  0  0  0  0  0  0  0  0  0  0  0\\n   -7.7945   -0.8812    2.2402 C   0  0  0  0  0  0  0  0  0  0  0  0\\n   -6.5103   -0.5678    1.8028 C   0  0  0  0  0  0  0  0  0  0  0  0\\n   -4.5763    1.8875    0.7542 C   0  0  0  0  0  0  0  0  0  0  0  0\\n   -5.8628    2.3634    0.4503 C   0  0  0  0  0  0  0  0  0  0  0  0\\n   -6.3287    3.5561    0.9972 C   0  0  0  0  0  0  0  0  0  0  0  0\\n   -5.5162    4.3061    1.8504 C   0  0  0  0  0  0  0  0  0  0  0  0\\n   -4.2340    3.8488    2.1557 C   0  0  0  0  0  0  0  0  0  0  0  0\\n   -3.7701    2.6503    1.6157 C   0  0  0  0  0  0  0  0  0  0  0  0\\n    0.4439    3.0244   -1.7240 C   0  0  0  0  0  0  0  0  0  0  0  0\\n   -0.4754    3.3687   -2.7234 C   0  0  0  0  0  0  0  0  0  0  0  0\\n   -0.6056    4.6888   -3.1444 C   0  0  0  0  0  0  0  0  0  0  0  0\\n    0.2032    5.6809   -2.5880 C   0  0  0  0  0  0  0  0  0  0  0  0\\n    1.1181    5.3415   -1.5935 C   0  0  0  0  0  0  0  0  0  0  0  0\\n    1.2414    4.0255   -1.1287 C   0  0  0  0  0  0  0  0  0  0  0  0\\n    2.1880    3.7236   -0.0248 C   0  0  0  0  0  0  0  0  0  0  0  0\\n    3.5438    4.0599   -0.1337 C   0  0  0  0  0  0  0  0  0  0  0  0\\n    4.4239    3.8074    0.9178 C   0  0  0  0  0  0  0  0  0  0  0  0\\n    3.9595    3.2116    2.0920 C   0  0  0  0  0  0  0  0  0  0  0  0\\n    2.6124    2.8627    2.2054 C   0  0  0  0  0  0  0  0  0  0  0  0\\n    1.7344    3.1237    1.1572 C   0  0  0  0  0  0  0  0  0  0  0  0\\n    4.3709   -2.7147   -0.2174 C   0  0  0  0  0  0  0  0  0  0  0  0\\n    5.6726   -3.1648    0.0714 C   0  0  0  0  0  0  0  0  0  0  0  0\\n    6.4027   -2.0824    0.7463 C   0  0  0  0  0  0  0  0  0  0  0  0\\n    5.5461   -0.9720    0.8695 C   0  0  0  0  0  0  0  0  0  0  0  0\\n    5.9803    0.2053    1.4603 C   0  0  0  0  0  0  0  0  0  0  0  0\\n    7.2919    0.2684    1.9424 C   0  0  0  0  0  0  0  0  0  0  0  0\\n    8.1472   -0.8335    1.8286 C   0  0  0  0  0  0  0  0  0  0  0  0\\n    7.7104   -2.0169    1.2286 C   0  0  0  0  0  0  0  0  0  0  0  0\\n    6.0637   -4.4554   -0.2865 C   0  0  0  0  0  0  0  0  0  0  0  0\\n    5.1420   -5.2833   -0.9317 C   0  0  0  0  0  0  0  0  0  0  0  0\\n    3.8484   -4.8301   -1.2140 C   0  0  0  0  0  0  0  0  0  0  0  0\\n    3.4541   -3.5367   -0.8554 C   0  0  0  0  0  0  0  0  0  0  0  0\\n    2.8867   -1.7517    2.4901 C   0  0  0  0  0  0  0  0  0  0  0  0\\n    1.7291   -1.5144    3.2368 C   0  0  0  0  0  0  0  0  0  0  0  0\\n    0.7234   -0.6892    2.7255 C   0  0  0  0  0  0  0  0  0  0  0  0\\n    0.8528   -0.0847    1.4736 C   0  0  0  0  0  0  0  0  0  0  0  0\\n    5.4866   -0.3911   -2.1103 H   0  0  0  0  0  0  0  0  0  0  0  0\\n    4.4921    1.2255   -3.7480 H   0  0  0  0  0  0  0  0  0  0  0  0\\n    2.2252    2.1301   -3.3652 H   0  0  0  0  0  0  0  0  0  0  0  0\\n    0.4311   -0.8757   -2.1585 H   0  0  0  0  0  0  0  0  0  0  0  0\\n   -1.4949   -2.4009   -1.8588 H   0  0  0  0  0  0  0  0  0  0  0  0\\n   -1.7066    2.3386   -0.2578 H   0  0  0  0  0  0  0  0  0  0  0  0\\n   -4.5911   -3.2259    1.2989 H   0  0  0  0  0  0  0  0  0  0  0  0\\n   -5.0250   -5.6515    0.9848 H   0  0  0  0  0  0  0  0  0  0  0  0\\n   -4.8107   -6.6723   -1.2722 H   0  0  0  0  0  0  0  0  0  0  0  0\\n   -4.1782   -5.2522   -3.2134 H   0  0  0  0  0  0  0  0  0  0  0  0\\n   -3.7930   -2.8150   -2.8944 H   0  0  0  0  0  0  0  0  0  0  0  0\\n   -6.6710   -1.8909   -1.3265 H   0  0  0  0  0  0  0  0  0  0  0  0\\n   -8.9461   -2.4565   -0.5446 H   0  0  0  0  0  0  0  0  0  0  0  0\\n   -9.6768   -1.8113    1.7435 H   0  0  0  0  0  0  0  0  0  0  0  0\\n   -8.1053   -0.5961    3.2413 H   0  0  0  0  0  0  0  0  0  0  0  0\\n   -5.8229   -0.0404    2.4555 H   0  0  0  0  0  0  0  0  0  0  0  0\\n   -6.4925    1.7907   -0.2227 H   0  0  0  0  0  0  0  0  0  0  0  0\\n   -7.3269    3.9064    0.7489 H   0  0  0  0  0  0  0  0  0  0  0  0\\n   -5.8792    5.2395    2.2715 H   0  0  0  0  0  0  0  0  0  0  0  0\\n   -3.5940    4.4223    2.8208 H   0  0  0  0  0  0  0  0  0  0  0  0\\n   -2.7803    2.2863    1.8747 H   0  0  0  0  0  0  0  0  0  0  0  0\\n   -1.0789    2.5856   -3.1700 H   0  0  0  0  0  0  0  0  0  0  0  0\\n   -1.3246    4.9369   -3.9200 H   0  0  0  0  0  0  0  0  0  0  0  0\\n    0.1142    6.7121   -2.9166 H   0  0  0  0  0  0  0  0  0  0  0  0\\n    1.7324    6.1100   -1.1330 H   0  0  0  0  0  0  0  0  0  0  0  0\\n    3.9071    4.5022   -1.0567 H   0  0  0  0  0  0  0  0  0  0  0  0\\n    5.4739    4.0679    0.8170 H   0  0  0  0  0  0  0  0  0  0  0  0\\n    4.6436    3.0155    2.9132 H   0  0  0  0  0  0  0  0  0  0  0  0\\n    2.2460    2.3776    3.1050 H   0  0  0  0  0  0  0  0  0  0  0  0\\n    0.6868    2.8586    1.2476 H   0  0  0  0  0  0  0  0  0  0  0  0\\n    5.3132    1.0575    1.5375 H   0  0  0  0  0  0  0  0  0  0  0  0\\n    7.6507    1.1822    2.4083 H   0  0  0  0  0  0  0  0  0  0  0  0\\n    9.1630   -0.7673    2.2086 H   0  0  0  0  0  0  0  0  0  0  0  0\\n    8.3797   -2.8683    1.1388 H   0  0  0  0  0  0  0  0  0  0  0  0\\n    7.0664   -4.8131   -0.0682 H   0  0  0  0  0  0  0  0  0  0  0  0\\n    5.4323   -6.2908   -1.2165 H   0  0  0  0  0  0  0  0  0  0  0  0\\n    3.1445   -5.4888   -1.7148 H   0  0  0  0  0  0  0  0  0  0  0  0\\n    2.4497   -3.1800   -1.0669 H   0  0  0  0  0  0  0  0  0  0  0  0\\n    3.6767   -2.3926    2.8716 H   0  0  0  0  0  0  0  0  0  0  0  0\\n    1.6106   -1.9746    4.2138 H   0  0  0  0  0  0  0  0  0  0  0  0\\n   -0.1781   -0.5145    3.3067 H   0  0  0  0  0  0  0  0  0  0  0  0\\n    0.0572    0.5418    1.0983 H   0  0  0  0  0  0  0  0  0  0  0  0\\n  2  1  1  0\\n  3  2  2  0\\n  4  3  1  0\\n  5  4  1  0\\n  5  1  1  0\\n  6  5  2  0\\n  7  6  1  0\\n  8  7  2  0\\n  9  8  1  0\\n  9  1  2  0\\n 10  9  1  0\\n 11 10  1  0\\n 12 11  2  0\\n 13 12  1  0\\n 14 13  2  0\\n 15 14  1  0\\n 16 15  2  0\\n 16 11  1  0\\n 17 15  1  0\\n 18 17  2  0\\n 19 18  1  0\\n 19 14  1  0\\n 20 19  1  0\\n 21 20  2  0\\n 22 21  1  0\\n 23 22  2  0\\n 24 23  1  0\\n 25 24  2  0\\n 25 20  1  0\\n 26 18  1  0\\n 27 26  2  0\\n 28 27  1  0\\n 29 28  2  0\\n 30 29  1  0\\n 31 30  2  0\\n 31 26  1  0\\n 32 17  1  0\\n 33 32  2  0\\n 34 33  1  0\\n 35 34  2  0\\n 36 35  1  0\\n 37 36  2  0\\n 37 32  1  0\\n 38 10  1  0\\n 39 38  2  0\\n 40 39  1  0\\n 41 40  2  0\\n 42 41  1  0\\n 43 42  2  0\\n 43 38  1  0\\n 44 43  1  0\\n 45 44  2  0\\n 46 45  1  0\\n 47 46  2  0\\n 48 47  1  0\\n 49 48  2  0\\n 49 44  1  0\\n 50  4  1  0\\n 51 50  2  0\\n 52 51  1  0\\n 53  4  1  0\\n 53 52  1  0\\n 54 53  2  0\\n 55 54  1  0\\n 56 55  2  0\\n 57 56  1  0\\n 57 52  2  0\\n 58 51  1  0\\n 59 58  2  0\\n 60 59  1  0\\n 61 60  2  0\\n 61 50  1  0\\n 62  3  1  0\\n 63 62  2  0\\n 64 63  1  0\\n 65 64  2  0\\n 65  2  1  0\\n 66  6  1  0\\n 67  7  1  0\\n 68  8  1  0\\n 69 12  1  0\\n 70 13  1  0\\n 71 16  1  0\\n 72 21  1  0\\n 73 22  1  0\\n 74 23  1  0\\n 75 24  1  0\\n 76 25  1  0\\n 77 27  1  0\\n 78 28  1  0\\n 79 29  1  0\\n 80 30  1  0\\n 81 31  1  0\\n 82 33  1  0\\n 83 34  1  0\\n 84 35  1  0\\n 85 36  1  0\\n 86 37  1  0\\n 87 39  1  0\\n 88 40  1  0\\n 89 41  1  0\\n 90 42  1  0\\n 91 45  1  0\\n 92 46  1  0\\n 93 47  1  0\\n 94 48  1  0\\n 95 49  1  0\\n 96 54  1  0\\n 97 55  1  0\\n 98 56  1  0\\n 99 57  1  0\\n100 58  1  0\\n101 59  1  0\\n102 60  1  0\\n103 61  1  0\\n104 62  1  0\\n105 63  1  0\\n106 64  1  0\\n107 65  1  0\\nM  END\\n', 'udft': None, 'tdft': None}, 'tdft': None, 'udft': None, 'spectrum': None}\n"
     ]
    },
    {
     "data": {
      "text/html": [
       "<pre style=\"white-space:pre;overflow-x:auto;line-height:normal;font-family:Menlo,'DejaVu Sans Mono',consolas,'Courier New',monospace\">15:32:59.998 | <span style=\"color: #008080; text-decoration-color: #008080\">INFO</span>    | Task run 'db_process-0' - Finished in state <span style=\"color: #008000; text-decoration-color: #008000\">Completed</span>()\n",
       "</pre>\n"
      ],
      "text/plain": [
       "15:32:59.998 | \u001b[36mINFO\u001b[0m    | Task run 'db_process-0' - Finished in state \u001b[32mCompleted\u001b[0m()\n"
      ]
     },
     "metadata": {},
     "output_type": "display_data"
    },
    {
     "data": {
      "text/html": [
       "<pre style=\"white-space:pre;overflow-x:auto;line-height:normal;font-family:Menlo,'DejaVu Sans Mono',consolas,'Courier New',monospace\">15:33:00.025 | <span style=\"color: #008080; text-decoration-color: #008080\">INFO</span>    | Flow run<span style=\"color: #800080; text-decoration-color: #800080\"> 'meek-jackal'</span> - Finished in state <span style=\"color: #008000; text-decoration-color: #008000\">Completed</span>('All states completed.')\n",
       "</pre>\n"
      ],
      "text/plain": [
       "15:33:00.025 | \u001b[36mINFO\u001b[0m    | Flow run\u001b[35m 'meek-jackal'\u001b[0m - Finished in state \u001b[32mCompleted\u001b[0m('All states completed.')\n"
      ]
     },
     "metadata": {},
     "output_type": "display_data"
    }
   ],
   "source": [
    "path_list = list(P('W:/Data-month-statistics/202310/1023/231010-HTL-0005').rglob('*.log'))\n",
    "for path in path_list:\n",
    "    print(path.as_posix())\n",
    "    single_db_process(path.as_posix())"
   ]
  },
  {
   "cell_type": "code",
   "execution_count": null,
   "metadata": {},
   "outputs": [],
   "source": []
  },
  {
   "cell_type": "code",
   "execution_count": null,
   "metadata": {},
   "outputs": [],
   "source": []
  }
 ],
 "metadata": {
  "kernelspec": {
   "display_name": "base",
   "language": "python",
   "name": "python3"
  },
  "language_info": {
   "codemirror_mode": {
    "name": "ipython",
    "version": 3
   },
   "file_extension": ".py",
   "mimetype": "text/x-python",
   "name": "python",
   "nbconvert_exporter": "python",
   "pygments_lexer": "ipython3",
   "version": "3.11.5"
  },
  "orig_nbformat": 4
 },
 "nbformat": 4,
 "nbformat_minor": 2
}
