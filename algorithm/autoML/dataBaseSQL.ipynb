{
 "cells": [
  {
   "cell_type": "code",
   "execution_count": 1,
   "metadata": {},
   "outputs": [],
   "source": [
    "import psycopg as pg\n",
    "import pandas as pd\n",
    "import json\n",
    "from typing import Any"
   ]
  },
  {
   "cell_type": "code",
   "execution_count": 39,
   "metadata": {},
   "outputs": [],
   "source": [
    "def get_login_str(file_p:str) -> str:\n",
    "\twith open(file_p) as f:\n",
    "\t\tdata = json.load(f)\n",
    "\tlogin=data['pg']\n",
    "\tlogin_str = 'dbname={dbname} user={user} host={host} port={port} connect_timeout=10 password={password}'.format(\n",
    "    dbname=login['dbname'],user=login['user'],host=login['host'],port=login['port'],password=login['password']\n",
    "\t)\n",
    "\treturn login_str\n",
    "\n",
    "\n",
    "def db_operate(sql_str:str) -> list[dict[str, int|str] | Any]:\n",
    "  loggin_str: str = get_login_str(file_p = '.access.json')\n",
    "  with pg.connect(loggin_str) as conn:\n",
    "    with conn.cursor() as cur:\n",
    "      ## 以查询数据库中计算名称、单点能、零点能、udft单点能、udft零点能、tdft的T1为例，如需查询其他数据请使用postgres的sql语法修改拼接字串\n",
    "      query_all= f\"SELECT name_calc, energy, corrections->>'zeroPoint', udft->>'energy',  udft->'corrections'->>'zeroPoint', tdft->'s0_t1'->>'energy' FROM moldata.main WHERE name_calc IN {sql_str}\"\n",
    "      cur.execute(query_all) # type: ignore\n",
    "      all=[{\n",
    "        'name_calc':i[0] if i[0] else 'null',\n",
    "        'udft_t1':((float(i[3]) + float(i[4])) - (float(i[1]) + float(i[2]))) * 27.2114  if (i[1] and i[2] and i[3] and i[4]) else 'null',\n",
    "        'tdft_t1':float(i[5][1:-1]) if i[5] else 'null',\n",
    "      } for i in cur.fetchall()]\n",
    "      ## print(all[:2])\n",
    "      return all  # type: ignore"
   ]
  },
  {
   "cell_type": "code",
   "execution_count": 34,
   "metadata": {},
   "outputs": [],
   "source": [
    "raw_name_str='''220411-EBL-0020\n",
    "191126-EBL-0031\n",
    "211214-EBL-0020\n",
    "220906-EBL-0024\n",
    "220916-EBL-0024\n",
    "220803-EBL-0010\n",
    "221011-EBH-0003\n",
    "220902-EBL-0011\n",
    "221212-EBL-0016\n",
    "230112-EBL-0010\n",
    "230110-EBL-0017\n",
    "220908-EBL-0046\n",
    "191218-EBL-0020\n",
    "230113-EBL-0010\n",
    "230113-EBL-0017\n",
    "201229-EBL-0025\n",
    "230426-EBL-0061\n",
    "230515-EBL-0003\n",
    "230602-EBL-0020\n",
    "230904-EBL-0092\n",
    "230112-EBL-0009\n",
    "230714-EBL-0045\n",
    "220822-EBL-0002\n",
    "191218-EBL-0019\n",
    "210122-EBL-0026\n",
    "230426-EBL-0064\n",
    "230519-EBL-0040\n",
    "230524-EBL-0013\n",
    "210205-EBL-0230\n",
    "220830-EBL-0023\n",
    "220906-EBL-0032\n",
    "220428-EBL-0085\n",
    "220420-EBL-0043\n",
    "210205-EBL-0237\n",
    "201125-EBL-0035\n",
    "220627-EBL-0102\n",
    "220907-EBL-0067\n",
    "200403-EBL-0031\n",
    "210201-EBL-0019\n",
    "221019-EBL-0031\n",
    "220830-HTL-0004\n",
    "220914-EBL-0011\n",
    "220902-EBL-0017\n",
    "200413-EBL-0005\n",
    "220919-EBL-0118\n",
    "210513-EBL-0022\n",
    "221014-EBL-0082\n",
    "230217-EBL-0068\n",
    "220211-EBL-0125\n",
    "210927-EBL-0093\n",
    "221025-EBL-0040\n",
    "230421-EBL-0052\n",
    "220610-EBL-0001\n",
    "230324-EBL-0174\n",
    "230324-EBL-0187\n",
    "210929-EBL-0376\n",
    "210205-EBL-0032\n",
    "210121-EBL-0044\n",
    "'''"
   ]
  },
  {
   "cell_type": "code",
   "execution_count": 35,
   "metadata": {},
   "outputs": [
    {
     "data": {
      "text/plain": [
       "\"('220411-EBL-0020','191126-EBL-0031','211214-EBL-0020','220906-EBL-0024','220916-EBL-0024','220803-EBL-0010','221011-EBH-0003','220902-EBL-0011','221212-EBL-0016','230112-EBL-0010','230110-EBL-0017','220908-EBL-0046','191218-EBL-0020','230113-EBL-0010','230113-EBL-0017','201229-EBL-0025','230426-EBL-0061','230515-EBL-0003','230602-EBL-0020','230904-EBL-0092','230112-EBL-0009','230714-EBL-0045','220822-EBL-0002','191218-EBL-0019','210122-EBL-0026','230426-EBL-0064','230519-EBL-0040','230524-EBL-0013','210205-EBL-0230','220830-EBL-0023','220906-EBL-0032','220428-EBL-0085','220420-EBL-0043','210205-EBL-0237','201125-EBL-0035','220627-EBL-0102','220907-EBL-0067','200403-EBL-0031','210201-EBL-0019','221019-EBL-0031','220830-HTL-0004','220914-EBL-0011','220902-EBL-0017','200413-EBL-0005','220919-EBL-0118','210513-EBL-0022','221014-EBL-0082','230217-EBL-0068','220211-EBL-0125','210927-EBL-0093','221025-EBL-0040','230421-EBL-0052','220610-EBL-0001','230324-EBL-0174','230324-EBL-0187','210929-EBL-0376','210205-EBL-0032','210121-EBL-0044','')\""
      ]
     },
     "execution_count": 35,
     "metadata": {},
     "output_type": "execute_result"
    }
   ],
   "source": [
    "# 拼接目标字串\n",
    "name_list = raw_name_str.split('\\n')\n",
    "name_str = \"('\" + \"','\".join(name_list) + \"')\"\n",
    "name_str"
   ]
  },
  {
   "cell_type": "code",
   "execution_count": 41,
   "metadata": {},
   "outputs": [],
   "source": [
    "# 执行查询\n",
    "data=db_operate(name_str)\n",
    "data=[[i['name_calc'], i['udft_t1'], i['tdft_t1']] for i in data]"
   ]
  },
  {
   "cell_type": "code",
   "execution_count": 42,
   "metadata": {},
   "outputs": [],
   "source": [
    "# 转换为pandas数据结构，然后保存为csv文件\n",
    "pd_data = pd.DataFrame(data,columns=['name','udft_t1','tdft-t1'])\n",
    "pd_data.to_csv('data.csv')"
   ]
  },
  {
   "cell_type": "code",
   "execution_count": 44,
   "metadata": {},
   "outputs": [],
   "source": []
  },
  {
   "cell_type": "code",
   "execution_count": null,
   "metadata": {},
   "outputs": [],
   "source": []
  }
 ],
 "metadata": {
  "kernelspec": {
   "display_name": "base",
   "language": "python",
   "name": "python3"
  },
  "language_info": {
   "codemirror_mode": {
    "name": "ipython",
    "version": 3
   },
   "file_extension": ".py",
   "mimetype": "text/x-python",
   "name": "python",
   "nbconvert_exporter": "python",
   "pygments_lexer": "ipython3",
   "version": "3.11.4"
  },
  "orig_nbformat": 4
 },
 "nbformat": 4,
 "nbformat_minor": 2
}
